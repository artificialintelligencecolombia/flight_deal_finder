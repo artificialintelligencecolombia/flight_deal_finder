{
 "cells": [
  {
   "cell_type": "code",
   "execution_count": 17,
   "metadata": {},
   "outputs": [],
   "source": [
    "import os\n",
    "import json\n",
    "import requests\n",
    "from dotenv import load_dotenv\n",
    "from pprint import pprint"
   ]
  },
  {
   "cell_type": "code",
   "execution_count": 8,
   "metadata": {},
   "outputs": [],
   "source": [
    "load_dotenv()\n",
    "\n",
    "BASE_SHEETY_URL=os.environ.get(\"BASE_SHEETY_URL\")\n",
    "SHEETY_AUTH_TOKEN=os.environ.get(\"SHEETY_AUTH_TOKEN\")"
   ]
  },
  {
   "cell_type": "code",
   "execution_count": 23,
   "metadata": {},
   "outputs": [
    {
     "name": "stdout",
     "output_type": "stream",
     "text": [
      "<class 'list'>\n",
      "[{'city': 'Paris', 'iataCode': '', 'id': 2, 'lowestPrice': 54},\n",
      " {'city': 'Frankfurt', 'iataCode': '', 'id': 3, 'lowestPrice': 42},\n",
      " {'city': 'Tokyo', 'iataCode': '', 'id': 4, 'lowestPrice': 485},\n",
      " {'city': 'Hong Kong', 'iataCode': '', 'id': 5, 'lowestPrice': 551},\n",
      " {'city': 'Istanbul', 'iataCode': '', 'id': 6, 'lowestPrice': 95},\n",
      " {'city': 'Kuala Lumpur', 'iataCode': '', 'id': 7, 'lowestPrice': 414},\n",
      " {'city': 'New York', 'iataCode': '', 'id': 8, 'lowestPrice': 240},\n",
      " {'city': 'San Francisco', 'iataCode': '', 'id': 9, 'lowestPrice': 260},\n",
      " {'city': 'Dublin', 'iataCode': '', 'id': 10, 'lowestPrice': 378},\n",
      " {'city': 'Barranquilla', 'iataCode': 'BAQ', 'id': 11},\n",
      " {'city': 'Bogota', 'iataCode': 'BOG', 'id': 12},\n",
      " {'city': 'Cali', 'iataCode': 'CLO', 'id': 13},\n",
      " {'city': 'Cartagena', 'iataCode': 'CTG', 'id': 14},\n",
      " {'city': 'Medellin', 'iataCode': 'EOH', 'id': 15},\n",
      " {'city': 'Rionegro', 'iataCode': 'MDE', 'id': 16},\n",
      " {'city': 'San Andrés', 'iataCode': 'ADZ', 'id': 17},\n",
      " {'city': 'Santa Marta', 'iataCode': 'SMR', 'id': 18}]\n"
     ]
    }
   ],
   "source": [
    "headers = {\n",
    "    \"Content-Type\": \"application/json\",\n",
    "    \"Authorization\": f\"Bearer {SHEETY_AUTH_TOKEN}\"\n",
    "}\n",
    "\n",
    "response = requests.get(url=BASE_SHEETY_URL, headers=headers)\n",
    "response.raise_for_status()\n",
    "raw_data = response.json()['sheet1']\n",
    "print(type(raw_data))\n",
    "pprint(raw_data)"
   ]
  },
  {
   "cell_type": "code",
   "execution_count": 29,
   "metadata": {},
   "outputs": [
    {
     "name": "stdout",
     "output_type": "stream",
     "text": [
      "{'Paris': {'iataCode': '', 'lowestPrice': 54}, 'Frankfurt': {'iataCode': '', 'lowestPrice': 42}, 'Tokyo': {'iataCode': '', 'lowestPrice': 485}, 'Hong Kong': {'iataCode': '', 'lowestPrice': 551}, 'Istanbul': {'iataCode': '', 'lowestPrice': 95}, 'Kuala Lumpur': {'iataCode': '', 'lowestPrice': 414}, 'New York': {'iataCode': '', 'lowestPrice': 240}, 'San Francisco': {'iataCode': '', 'lowestPrice': 260}, 'Dublin': {'iataCode': '', 'lowestPrice': 378}, 'Barranquilla': {'iataCode': 'BAQ', 'lowestPrice': None}, 'Bogota': {'iataCode': 'BOG', 'lowestPrice': None}, 'Cali': {'iataCode': 'CLO', 'lowestPrice': None}, 'Cartagena': {'iataCode': 'CTG', 'lowestPrice': None}, 'Medellin': {'iataCode': 'EOH', 'lowestPrice': None}, 'Rionegro': {'iataCode': 'MDE', 'lowestPrice': None}, 'San Andrés': {'iataCode': 'ADZ', 'lowestPrice': None}, 'Santa Marta': {'iataCode': 'SMR', 'lowestPrice': None}}\n"
     ]
    }
   ],
   "source": [
    "dataset = {item['city']: {'iataCode': item['iataCode'], 'lowestPrice': item.get('lowestPrice', None)} for item in raw_data}\n",
    "print(dataset)\n"
   ]
  },
  {
   "cell_type": "code",
   "execution_count": null,
   "metadata": {},
   "outputs": [],
   "source": []
  }
 ],
 "metadata": {
  "kernelspec": {
   "display_name": "Python 3",
   "language": "python",
   "name": "python3"
  },
  "language_info": {
   "codemirror_mode": {
    "name": "ipython",
    "version": 3
   },
   "file_extension": ".py",
   "mimetype": "text/x-python",
   "name": "python",
   "nbconvert_exporter": "python",
   "pygments_lexer": "ipython3",
   "version": "3.12.3"
  }
 },
 "nbformat": 4,
 "nbformat_minor": 2
}
