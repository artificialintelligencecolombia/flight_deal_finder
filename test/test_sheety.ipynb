{
 "cells": [
  {
   "cell_type": "code",
   "execution_count": 1,
   "metadata": {},
   "outputs": [],
   "source": [
    "import os\n",
    "import requests\n",
    "from dotenv import load_dotenv"
   ]
  },
  {
   "cell_type": "code",
   "execution_count": 2,
   "metadata": {},
   "outputs": [],
   "source": [
    "load_dotenv()\n",
    "\n",
    "BASE_SHEETY_URL=os.environ.get(\"BASE_SHEETY_URL\")\n",
    "SHEETY_AUTH_TOKEN=os.environ.get(\"SHEETY_AUTH_TOKEN\")"
   ]
  },
  {
   "cell_type": "code",
   "execution_count": 3,
   "metadata": {},
   "outputs": [
    {
     "name": "stdout",
     "output_type": "stream",
     "text": [
      "{'sheet1': [{'city': 'Paris', 'iataCode': '', 'lowestPrice': 54, 'id': 2}, {'city': 'Frankfurt', 'iataCode': '', 'lowestPrice': 42, 'id': 3}, {'city': 'Tokyo', 'iataCode': '', 'lowestPrice': 485, 'id': 4}, {'city': 'Hong Kong', 'iataCode': '', 'lowestPrice': 551, 'id': 5}, {'city': 'Istanbul', 'iataCode': '', 'lowestPrice': 95, 'id': 6}, {'city': 'Kuala Lumpur', 'iataCode': '', 'lowestPrice': 414, 'id': 7}, {'city': 'New York', 'iataCode': '', 'lowestPrice': 240, 'id': 8}, {'city': 'San Francisco', 'iataCode': '', 'lowestPrice': 260, 'id': 9}, {'city': 'Dublin', 'iataCode': '', 'lowestPrice': 378, 'id': 10}, {'city': 'Barranquilla', 'iataCode': 'BAQ', 'id': 11}, {'city': 'Bogota', 'iataCode': 'BOG', 'id': 12}, {'city': 'Cali', 'iataCode': 'CLO', 'id': 13}, {'city': 'Cartagena', 'iataCode': 'CTG', 'id': 14}, {'city': 'Medellin', 'iataCode': 'EOH', 'id': 15}, {'city': 'Rionegro', 'iataCode': 'MDE', 'id': 16}, {'city': 'San Andrés', 'iataCode': 'ADZ', 'id': 17}, {'city': 'Santa Marta', 'iataCode': 'SMR', 'id': 18}]}\n"
     ]
    }
   ],
   "source": [
    "headers = {\n",
    "    \"Content-Type\": \"application/json\",\n",
    "    \"Authorization\": f\"Bearer {SHEETY_AUTH_TOKEN}\"\n",
    "}\n",
    "\n",
    "response = requests.get(url=BASE_SHEETY_URL, headers=headers)\n",
    "response.raise_for_status()\n",
    "data = response.json()\n",
    "print(data)"
   ]
  },
  {
   "cell_type": "code",
   "execution_count": null,
   "metadata": {},
   "outputs": [],
   "source": []
  }
 ],
 "metadata": {
  "kernelspec": {
   "display_name": "Python 3",
   "language": "python",
   "name": "python3"
  },
  "language_info": {
   "codemirror_mode": {
    "name": "ipython",
    "version": 3
   },
   "file_extension": ".py",
   "mimetype": "text/x-python",
   "name": "python",
   "nbconvert_exporter": "python",
   "pygments_lexer": "ipython3",
   "version": "3.12.3"
  }
 },
 "nbformat": 4,
 "nbformat_minor": 2
}
