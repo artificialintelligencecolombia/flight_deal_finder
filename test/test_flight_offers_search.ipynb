{
 "cells": [
  {
   "cell_type": "code",
   "execution_count": 2,
   "metadata": {},
   "outputs": [],
   "source": [
    "import os\n",
    "import requests\n",
    "from dotenv import load_dotenv"
   ]
  },
  {
   "cell_type": "code",
   "execution_count": 3,
   "metadata": {},
   "outputs": [],
   "source": [
    "load_dotenv()\n",
    "\n",
    "AMADEUS_ACCESS_TOKEN = os.environ.get('AMADEUS_ACCESS_TOKEN')\n",
    "AMADEUS_API_KEY = os.environ.get('AMADEUS_API_KEY')\n",
    "AMADEUS_API_SECRET = os.environ.get('AMADEUS_API_SECRET')\n",
    "FLIGHT_OFFERS_BASE_URL = os.environ.get('FLIGHT_OFFERS_BASE_URL')"
   ]
  },
  {
   "cell_type": "code",
   "execution_count": 4,
   "metadata": {},
   "outputs": [],
   "source": [
    "params = {\n",
    "    \"grant_type\": \"client_credentials\",\n",
    "    \"client_id\": AMADEUS_API_KEY,\n",
    "    \"client_secret\": AMADEUS_API_SECRET\n",
    "}\n",
    "\n",
    "headers = {\n",
    "    \"Content-Type\": \"application/x-www-form-urlencoded\"\n",
    "}"
   ]
  },
  {
   "cell_type": "code",
   "execution_count": 5,
   "metadata": {},
   "outputs": [
    {
     "name": "stdout",
     "output_type": "stream",
     "text": [
      "Access token: mWwaAeP0QaI7AOjzknyrm62uAwbA\n",
      "Expiration date: 1799\n",
      "Authorization state: approved\n"
     ]
    }
   ],
   "source": [
    "response = requests.post(url=AMADEUS_ACCESS_TOKEN, data=params, headers=headers)\n",
    "response.raise_for_status()\n",
    "\n",
    "access_token = response.json()['access_token']\n",
    "expiration_date = response.json()['expires_in']\n",
    "authorization_state = response.json()['state']\n",
    "print(f\"Access token: {access_token}\")\n",
    "print(f\"Expiration date: {expiration_date}\")\n",
    "print(f\"Authorization state: {authorization_state}\")\n"
   ]
  },
  {
   "cell_type": "code",
   "execution_count": null,
   "metadata": {},
   "outputs": [],
   "source": [
    "# Get flight offers GET request\n",
    "flight_offers_headers = {\n",
    "    \"Authorization\": f\"Bearer {access_token}\"\n",
    "}\n",
    "\n",
    "flight_offers_search_params = {\n",
    "    \"originLocationCode\": \"MDE\",  # Miami (IATA code)\n",
    "    \"destinationLocationCode\": \"FLL\",  # New York (IATA code)\n",
    "    \"departureDate\": \"2025-03-29\",\n",
    "    \"returnDate\": \"2025-04-01\", # YYYY-MM-DD format\n",
    "    # \"maxPrice\": 200,\n",
    "    \"currencyCode\": \"USD\",\n",
    "    \"adults\": 1,  # At least 1 adult\n",
    "    \"max\": 3  # Optional: Limits results\n",
    "}"
   ]
  },
  {
   "cell_type": "code",
   "execution_count": 16,
   "metadata": {},
   "outputs": [
    {
     "name": "stdout",
     "output_type": "stream",
     "text": [
      "[]\n"
     ]
    }
   ],
   "source": [
    "try:\n",
    "    flight_offers_response = requests.get(url=FLIGHT_OFFERS_BASE_URL, params=flight_offers_search_params, headers=flight_offers_headers)\n",
    "    flight_offers_response.raise_for_status()\n",
    "    raw_flight_offers_data = flight_offers_response.json()\n",
    "    # print(raw_flight_offers_data)\n",
    "except requests.exceptions.HTTPError as e:\n",
    "    print(f\"Error: {e}\")  \n",
    "    \n",
    "data = raw_flight_offers_data['data']\n",
    "print(data)"
   ]
  }
 ],
 "metadata": {
  "kernelspec": {
   "display_name": "Python 3",
   "language": "python",
   "name": "python3"
  },
  "language_info": {
   "codemirror_mode": {
    "name": "ipython",
    "version": 3
   },
   "file_extension": ".py",
   "mimetype": "text/x-python",
   "name": "python",
   "nbconvert_exporter": "python",
   "pygments_lexer": "ipython3",
   "version": "3.12.3"
  }
 },
 "nbformat": 4,
 "nbformat_minor": 2
}
