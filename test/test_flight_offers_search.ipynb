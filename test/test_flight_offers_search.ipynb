{
 "cells": [
  {
   "cell_type": "code",
   "execution_count": 2,
   "metadata": {},
   "outputs": [],
   "source": [
    "import os\n",
    "import requests\n",
    "from dotenv import load_dotenv"
   ]
  },
  {
   "cell_type": "code",
   "execution_count": 3,
   "metadata": {},
   "outputs": [],
   "source": [
    "load_dotenv()\n",
    "\n",
    "AMADEUS_ACCESS_TOKEN = os.environ.get('AMADEUS_ACCESS_TOKEN')\n",
    "AMADEUS_API_KEY = os.environ.get('AMADEUS_API_KEY')\n",
    "AMADEUS_API_SECRET = os.environ.get('AMADEUS_API_SECRET')\n",
    "FLIGHT_OFFERS_BASE_URL = os.environ.get('FLIGHT_OFFERS_BASE_URL')"
   ]
  },
  {
   "cell_type": "code",
   "execution_count": 4,
   "metadata": {},
   "outputs": [],
   "source": [
    "params = {\n",
    "    \"grant_type\": \"client_credentials\",\n",
    "    \"client_id\": AMADEUS_API_KEY,\n",
    "    \"client_secret\": AMADEUS_API_SECRET\n",
    "}\n",
    "\n",
    "headers = {\n",
    "    \"Content-Type\": \"application/x-www-form-urlencoded\"\n",
    "}"
   ]
  },
  {
   "cell_type": "code",
   "execution_count": 5,
   "metadata": {},
   "outputs": [
    {
     "name": "stdout",
     "output_type": "stream",
     "text": [
      "Access token: mWwaAeP0QaI7AOjzknyrm62uAwbA\n",
      "Expiration date: 1799\n",
      "Authorization state: approved\n"
     ]
    }
   ],
   "source": [
    "response = requests.post(url=AMADEUS_ACCESS_TOKEN, data=params, headers=headers)\n",
    "response.raise_for_status()\n",
    "\n",
    "access_token = response.json()['access_token']\n",
    "expiration_date = response.json()['expires_in']\n",
    "authorization_state = response.json()['state']\n",
    "print(f\"Access token: {access_token}\")\n",
    "print(f\"Expiration date: {expiration_date}\")\n",
    "print(f\"Authorization state: {authorization_state}\")\n"
   ]
  },
  {
   "cell_type": "code",
   "execution_count": 17,
   "metadata": {},
   "outputs": [],
   "source": [
    "# Get flight offers GET request\n",
    "flight_offers_headers = {\n",
    "    \"Authorization\": f\"Bearer {access_token}\"\n",
    "}\n",
    "\n",
    "flight_offers_search_params = {\n",
    "    \"originLocationCode\": \"MDE\",  # Miami (IATA code)\n",
    "    \"destinationLocationCode\": \"FLL\",  # New York (IATA code)\n",
    "    \"departureDate\": \"2025-03-29\",\n",
    "    \"returnDate\": \"2025-04-01\", # YYYY-MM-DD format\n",
    "    # \"maxPrice\": 200,\n",
    "    \"currencyCode\": \"USD\",\n",
    "    \"adults\": 1,  # At least 1 adult\n",
    "    \"max\": 3  # Optional: Limits results\n",
    "}"
   ]
  },
  {
   "cell_type": "code",
   "execution_count": 18,
   "metadata": {},
   "outputs": [
    {
     "name": "stdout",
     "output_type": "stream",
     "text": [
      "[{'type': 'flight-offer', 'id': '1', 'source': 'GDS', 'instantTicketingRequired': False, 'nonHomogeneous': False, 'oneWay': False, 'isUpsellOffer': False, 'lastTicketingDate': '2025-03-11', 'lastTicketingDateTime': '2025-03-11', 'numberOfBookableSeats': 7, 'itineraries': [{'duration': 'PT3H41M', 'segments': [{'departure': {'iataCode': 'MDE', 'at': '2025-03-29T13:19:00'}, 'arrival': {'iataCode': 'FLL', 'terminal': '4', 'at': '2025-03-29T18:00:00'}, 'carrierCode': 'B6', 'number': '40', 'aircraft': {'code': '320'}, 'operating': {'carrierCode': 'B6'}, 'duration': 'PT3H41M', 'id': '3', 'numberOfStops': 0, 'blacklistedInEU': False}]}, {'duration': 'PT3H27M', 'segments': [{'departure': {'iataCode': 'FLL', 'terminal': '3', 'at': '2025-04-01T10:15:00'}, 'arrival': {'iataCode': 'MDE', 'at': '2025-04-01T12:42:00'}, 'carrierCode': 'B6', 'number': '41', 'aircraft': {'code': '320'}, 'operating': {'carrierCode': 'B6'}, 'duration': 'PT3H27M', 'id': '6', 'numberOfStops': 0, 'blacklistedInEU': False}]}], 'price': {'currency': 'USD', 'total': '482.91', 'base': '300.00', 'fees': [{'amount': '0.00', 'type': 'SUPPLIER'}, {'amount': '0.00', 'type': 'TICKETING'}], 'grandTotal': '482.91', 'additionalServices': [{'amount': '70.00', 'type': 'CHECKED_BAGS'}]}, 'pricingOptions': {'fareType': ['PUBLISHED'], 'includedCheckedBagsOnly': False}, 'validatingAirlineCodes': ['B6'], 'travelerPricings': [{'travelerId': '1', 'fareOption': 'STANDARD', 'travelerType': 'ADULT', 'price': {'currency': 'USD', 'total': '482.91', 'base': '300.00'}, 'fareDetailsBySegment': [{'segmentId': '3', 'cabin': 'ECONOMY', 'fareBasis': 'ZI0AREL1', 'brandedFare': 'DN', 'brandedFareLabel': 'BLUE BASIC', 'class': 'L', 'includedCheckedBags': {'quantity': 0}, 'includedCabinBags': {'quantity': 2}, 'amenities': [{'description': 'CHECKED BAG FIRST', 'isChargeable': True, 'amenityType': 'BAGGAGE', 'amenityProvider': {'name': 'BrandedFare'}}, {'description': 'CHECKED BAG SECOND', 'isChargeable': True, 'amenityType': 'BAGGAGE', 'amenityProvider': {'name': 'BrandedFare'}}, {'description': 'EXTRA LEGROOM', 'isChargeable': True, 'amenityType': 'PRE_RESERVED_SEAT', 'amenityProvider': {'name': 'BrandedFare'}}, {'description': 'ADVANCE SEAT SELECTION', 'isChargeable': True, 'amenityType': 'PRE_RESERVED_SEAT', 'amenityProvider': {'name': 'BrandedFare'}}, {'description': 'SNACK', 'isChargeable': False, 'amenityType': 'MEAL', 'amenityProvider': {'name': 'BrandedFare'}}, {'description': 'ALCOHOLIC DRINK', 'isChargeable': True, 'amenityType': 'MEAL', 'amenityProvider': {'name': 'BrandedFare'}}, {'description': 'NON ALCOHOLIC DRINK', 'isChargeable': False, 'amenityType': 'MEAL', 'amenityProvider': {'name': 'BrandedFare'}}]}, {'segmentId': '6', 'cabin': 'ECONOMY', 'fareBasis': 'PI0ABEL1', 'brandedFare': 'DN', 'brandedFareLabel': 'BLUE BASIC', 'class': 'L', 'includedCheckedBags': {'quantity': 0}, 'includedCabinBags': {'quantity': 2}, 'amenities': [{'description': 'CHECKED BAG FIRST', 'isChargeable': True, 'amenityType': 'BAGGAGE', 'amenityProvider': {'name': 'BrandedFare'}}, {'description': 'CHECKED BAG SECOND', 'isChargeable': True, 'amenityType': 'BAGGAGE', 'amenityProvider': {'name': 'BrandedFare'}}, {'description': 'EXTRA LEGROOM', 'isChargeable': True, 'amenityType': 'PRE_RESERVED_SEAT', 'amenityProvider': {'name': 'BrandedFare'}}, {'description': 'ADVANCE SEAT SELECTION', 'isChargeable': True, 'amenityType': 'PRE_RESERVED_SEAT', 'amenityProvider': {'name': 'BrandedFare'}}, {'description': 'SNACK', 'isChargeable': False, 'amenityType': 'MEAL', 'amenityProvider': {'name': 'BrandedFare'}}, {'description': 'ALCOHOLIC DRINK', 'isChargeable': True, 'amenityType': 'MEAL', 'amenityProvider': {'name': 'BrandedFare'}}, {'description': 'NON ALCOHOLIC DRINK', 'isChargeable': False, 'amenityType': 'MEAL', 'amenityProvider': {'name': 'BrandedFare'}}]}]}]}, {'type': 'flight-offer', 'id': '2', 'source': 'GDS', 'instantTicketingRequired': False, 'nonHomogeneous': False, 'oneWay': False, 'isUpsellOffer': False, 'lastTicketingDate': '2025-03-11', 'lastTicketingDateTime': '2025-03-11', 'numberOfBookableSeats': 9, 'itineraries': [{'duration': 'PT5H36M', 'segments': [{'departure': {'iataCode': 'MDE', 'at': '2025-03-29T09:41:00'}, 'arrival': {'iataCode': 'PTY', 'at': '2025-03-29T11:10:00'}, 'carrierCode': 'CM', 'number': '834', 'aircraft': {'code': '7M9'}, 'operating': {'carrierCode': 'CM'}, 'duration': 'PT1H29M', 'id': '1', 'numberOfStops': 0, 'blacklistedInEU': False}, {'departure': {'iataCode': 'PTY', 'at': '2025-03-29T12:03:00'}, 'arrival': {'iataCode': 'FLL', 'terminal': '4', 'at': '2025-03-29T16:17:00'}, 'carrierCode': 'CM', 'number': '265', 'aircraft': {'code': '738'}, 'operating': {'carrierCode': 'CM'}, 'duration': 'PT3H14M', 'id': '2', 'numberOfStops': 0, 'blacklistedInEU': False}]}, {'duration': 'PT5H42M', 'segments': [{'departure': {'iataCode': 'FLL', 'terminal': '1', 'at': '2025-04-01T18:09:00'}, 'arrival': {'iataCode': 'PTY', 'at': '2025-04-01T20:19:00'}, 'carrierCode': 'CM', 'number': '266', 'aircraft': {'code': '738'}, 'operating': {'carrierCode': 'CM'}, 'duration': 'PT3H10M', 'id': '7', 'numberOfStops': 0, 'blacklistedInEU': False}, {'departure': {'iataCode': 'PTY', 'at': '2025-04-01T21:26:00'}, 'arrival': {'iataCode': 'MDE', 'at': '2025-04-01T22:51:00'}, 'carrierCode': 'CM', 'number': '155', 'aircraft': {'code': '738'}, 'operating': {'carrierCode': 'CM'}, 'duration': 'PT1H25M', 'id': '8', 'numberOfStops': 0, 'blacklistedInEU': False}]}], 'price': {'currency': 'USD', 'total': '581.81', 'base': '340.00', 'fees': [{'amount': '0.00', 'type': 'SUPPLIER'}, {'amount': '0.00', 'type': 'TICKETING'}], 'grandTotal': '581.81'}, 'pricingOptions': {'fareType': ['PUBLISHED'], 'includedCheckedBagsOnly': False}, 'validatingAirlineCodes': ['CM'], 'travelerPricings': [{'travelerId': '1', 'fareOption': 'STANDARD', 'travelerType': 'ADULT', 'price': {'currency': 'USD', 'total': '581.81', 'base': '340.00'}, 'fareDetailsBySegment': [{'segmentId': '1', 'cabin': 'ECONOMY', 'fareBasis': 'OLAAOZ2S', 'brandedFare': 'BASIC', 'brandedFareLabel': 'ECONOMY BASIC', 'class': 'O', 'includedCheckedBags': {'quantity': 0}, 'includedCabinBags': {'weight': 10, 'weightUnit': 'KG'}, 'amenities': [{'description': 'FIRST BAG UP TO 23KG', 'isChargeable': True, 'amenityType': 'BAGGAGE', 'amenityProvider': {'name': 'BrandedFare'}}, {'description': 'SECOND BAG UP TO 23KG', 'isChargeable': True, 'amenityType': 'BAGGAGE', 'amenityProvider': {'name': 'BrandedFare'}}, {'description': 'SEAT SELECTION', 'isChargeable': True, 'amenityType': 'PRE_RESERVED_SEAT', 'amenityProvider': {'name': 'BrandedFare'}}, {'description': 'SNACK', 'isChargeable': False, 'amenityType': 'MEAL', 'amenityProvider': {'name': 'BrandedFare'}}, {'description': 'BOOKING CHANGES', 'isChargeable': True, 'amenityType': 'BRANDED_FARES', 'amenityProvider': {'name': 'BrandedFare'}}, {'description': 'PREMIUM SEAT SELECTION', 'isChargeable': True, 'amenityType': 'BRANDED_FARES', 'amenityProvider': {'name': 'BrandedFare'}}, {'description': '50 PERCENT MILES EARN', 'isChargeable': False, 'amenityType': 'BRANDED_FARES', 'amenityProvider': {'name': 'BrandedFare'}}]}, {'segmentId': '2', 'cabin': 'ECONOMY', 'fareBasis': 'OLAAOZ2S', 'brandedFare': 'BASIC', 'brandedFareLabel': 'ECONOMY BASIC', 'class': 'O', 'includedCheckedBags': {'quantity': 0}, 'includedCabinBags': {'weight': 10, 'weightUnit': 'KG'}, 'amenities': [{'description': 'FIRST BAG UP TO 23KG', 'isChargeable': True, 'amenityType': 'BAGGAGE', 'amenityProvider': {'name': 'BrandedFare'}}, {'description': 'SECOND BAG UP TO 23KG', 'isChargeable': True, 'amenityType': 'BAGGAGE', 'amenityProvider': {'name': 'BrandedFare'}}, {'description': 'SEAT SELECTION', 'isChargeable': True, 'amenityType': 'PRE_RESERVED_SEAT', 'amenityProvider': {'name': 'BrandedFare'}}, {'description': 'SNACK', 'isChargeable': False, 'amenityType': 'MEAL', 'amenityProvider': {'name': 'BrandedFare'}}, {'description': 'BOOKING CHANGES', 'isChargeable': True, 'amenityType': 'BRANDED_FARES', 'amenityProvider': {'name': 'BrandedFare'}}, {'description': 'PREMIUM SEAT SELECTION', 'isChargeable': True, 'amenityType': 'BRANDED_FARES', 'amenityProvider': {'name': 'BrandedFare'}}, {'description': '50 PERCENT MILES EARN', 'isChargeable': False, 'amenityType': 'BRANDED_FARES', 'amenityProvider': {'name': 'BrandedFare'}}]}, {'segmentId': '7', 'cabin': 'ECONOMY', 'fareBasis': 'OLAAOZ2S', 'brandedFare': 'BASIC', 'brandedFareLabel': 'ECONOMY BASIC', 'class': 'O', 'includedCheckedBags': {'quantity': 0}, 'includedCabinBags': {'weight': 10, 'weightUnit': 'KG'}, 'amenities': [{'description': 'FIRST BAG UP TO 23KG', 'isChargeable': True, 'amenityType': 'BAGGAGE', 'amenityProvider': {'name': 'BrandedFare'}}, {'description': 'SECOND BAG UP TO 23KG', 'isChargeable': True, 'amenityType': 'BAGGAGE', 'amenityProvider': {'name': 'BrandedFare'}}, {'description': 'SEAT SELECTION', 'isChargeable': True, 'amenityType': 'PRE_RESERVED_SEAT', 'amenityProvider': {'name': 'BrandedFare'}}, {'description': 'SNACK', 'isChargeable': False, 'amenityType': 'MEAL', 'amenityProvider': {'name': 'BrandedFare'}}, {'description': 'BOOKING CHANGES', 'isChargeable': True, 'amenityType': 'BRANDED_FARES', 'amenityProvider': {'name': 'BrandedFare'}}, {'description': 'PREMIUM SEAT SELECTION', 'isChargeable': True, 'amenityType': 'BRANDED_FARES', 'amenityProvider': {'name': 'BrandedFare'}}, {'description': '50 PERCENT MILES EARN', 'isChargeable': False, 'amenityType': 'BRANDED_FARES', 'amenityProvider': {'name': 'BrandedFare'}}]}, {'segmentId': '8', 'cabin': 'ECONOMY', 'fareBasis': 'OLAAOZ2S', 'brandedFare': 'BASIC', 'brandedFareLabel': 'ECONOMY BASIC', 'class': 'O', 'includedCheckedBags': {'quantity': 0}, 'includedCabinBags': {'weight': 10, 'weightUnit': 'KG'}, 'amenities': [{'description': 'FIRST BAG UP TO 23KG', 'isChargeable': True, 'amenityType': 'BAGGAGE', 'amenityProvider': {'name': 'BrandedFare'}}, {'description': 'SECOND BAG UP TO 23KG', 'isChargeable': True, 'amenityType': 'BAGGAGE', 'amenityProvider': {'name': 'BrandedFare'}}, {'description': 'SEAT SELECTION', 'isChargeable': True, 'amenityType': 'PRE_RESERVED_SEAT', 'amenityProvider': {'name': 'BrandedFare'}}, {'description': 'SNACK', 'isChargeable': False, 'amenityType': 'MEAL', 'amenityProvider': {'name': 'BrandedFare'}}, {'description': 'BOOKING CHANGES', 'isChargeable': True, 'amenityType': 'BRANDED_FARES', 'amenityProvider': {'name': 'BrandedFare'}}, {'description': 'PREMIUM SEAT SELECTION', 'isChargeable': True, 'amenityType': 'BRANDED_FARES', 'amenityProvider': {'name': 'BrandedFare'}}, {'description': '50 PERCENT MILES EARN', 'isChargeable': False, 'amenityType': 'BRANDED_FARES', 'amenityProvider': {'name': 'BrandedFare'}}]}]}]}, {'type': 'flight-offer', 'id': '3', 'source': 'GDS', 'instantTicketingRequired': False, 'nonHomogeneous': False, 'oneWay': False, 'isUpsellOffer': False, 'lastTicketingDate': '2025-03-11', 'lastTicketingDateTime': '2025-03-11', 'numberOfBookableSeats': 9, 'itineraries': [{'duration': 'PT5H55M', 'segments': [{'departure': {'iataCode': 'MDE', 'at': '2025-03-29T09:22:00'}, 'arrival': {'iataCode': 'PTY', 'at': '2025-03-29T10:51:00'}, 'carrierCode': 'CM', 'number': '398', 'aircraft': {'code': '738'}, 'operating': {'carrierCode': 'CM'}, 'duration': 'PT1H29M', 'id': '4', 'numberOfStops': 0, 'blacklistedInEU': False}, {'departure': {'iataCode': 'PTY', 'at': '2025-03-29T12:03:00'}, 'arrival': {'iataCode': 'FLL', 'terminal': '4', 'at': '2025-03-29T16:17:00'}, 'carrierCode': 'CM', 'number': '265', 'aircraft': {'code': '738'}, 'operating': {'carrierCode': 'CM'}, 'duration': 'PT3H14M', 'id': '5', 'numberOfStops': 0, 'blacklistedInEU': False}]}, {'duration': 'PT5H42M', 'segments': [{'departure': {'iataCode': 'FLL', 'terminal': '1', 'at': '2025-04-01T18:09:00'}, 'arrival': {'iataCode': 'PTY', 'at': '2025-04-01T20:19:00'}, 'carrierCode': 'CM', 'number': '266', 'aircraft': {'code': '738'}, 'operating': {'carrierCode': 'CM'}, 'duration': 'PT3H10M', 'id': '7', 'numberOfStops': 0, 'blacklistedInEU': False}, {'departure': {'iataCode': 'PTY', 'at': '2025-04-01T21:26:00'}, 'arrival': {'iataCode': 'MDE', 'at': '2025-04-01T22:51:00'}, 'carrierCode': 'CM', 'number': '155', 'aircraft': {'code': '738'}, 'operating': {'carrierCode': 'CM'}, 'duration': 'PT1H25M', 'id': '8', 'numberOfStops': 0, 'blacklistedInEU': False}]}], 'price': {'currency': 'USD', 'total': '581.81', 'base': '340.00', 'fees': [{'amount': '0.00', 'type': 'SUPPLIER'}, {'amount': '0.00', 'type': 'TICKETING'}], 'grandTotal': '581.81'}, 'pricingOptions': {'fareType': ['PUBLISHED'], 'includedCheckedBagsOnly': False}, 'validatingAirlineCodes': ['CM'], 'travelerPricings': [{'travelerId': '1', 'fareOption': 'STANDARD', 'travelerType': 'ADULT', 'price': {'currency': 'USD', 'total': '581.81', 'base': '340.00'}, 'fareDetailsBySegment': [{'segmentId': '4', 'cabin': 'ECONOMY', 'fareBasis': 'OLAAOZ2S', 'brandedFare': 'BASIC', 'brandedFareLabel': 'ECONOMY BASIC', 'class': 'O', 'includedCheckedBags': {'quantity': 0}, 'includedCabinBags': {'weight': 10, 'weightUnit': 'KG'}, 'amenities': [{'description': 'FIRST BAG UP TO 23KG', 'isChargeable': True, 'amenityType': 'BAGGAGE', 'amenityProvider': {'name': 'BrandedFare'}}, {'description': 'SECOND BAG UP TO 23KG', 'isChargeable': True, 'amenityType': 'BAGGAGE', 'amenityProvider': {'name': 'BrandedFare'}}, {'description': 'SEAT SELECTION', 'isChargeable': True, 'amenityType': 'PRE_RESERVED_SEAT', 'amenityProvider': {'name': 'BrandedFare'}}, {'description': 'SNACK', 'isChargeable': False, 'amenityType': 'MEAL', 'amenityProvider': {'name': 'BrandedFare'}}, {'description': 'BOOKING CHANGES', 'isChargeable': True, 'amenityType': 'BRANDED_FARES', 'amenityProvider': {'name': 'BrandedFare'}}, {'description': 'PREMIUM SEAT SELECTION', 'isChargeable': True, 'amenityType': 'BRANDED_FARES', 'amenityProvider': {'name': 'BrandedFare'}}, {'description': '50 PERCENT MILES EARN', 'isChargeable': False, 'amenityType': 'BRANDED_FARES', 'amenityProvider': {'name': 'BrandedFare'}}]}, {'segmentId': '5', 'cabin': 'ECONOMY', 'fareBasis': 'OLAAOZ2S', 'brandedFare': 'BASIC', 'brandedFareLabel': 'ECONOMY BASIC', 'class': 'O', 'includedCheckedBags': {'quantity': 0}, 'includedCabinBags': {'weight': 10, 'weightUnit': 'KG'}, 'amenities': [{'description': 'FIRST BAG UP TO 23KG', 'isChargeable': True, 'amenityType': 'BAGGAGE', 'amenityProvider': {'name': 'BrandedFare'}}, {'description': 'SECOND BAG UP TO 23KG', 'isChargeable': True, 'amenityType': 'BAGGAGE', 'amenityProvider': {'name': 'BrandedFare'}}, {'description': 'SEAT SELECTION', 'isChargeable': True, 'amenityType': 'PRE_RESERVED_SEAT', 'amenityProvider': {'name': 'BrandedFare'}}, {'description': 'SNACK', 'isChargeable': False, 'amenityType': 'MEAL', 'amenityProvider': {'name': 'BrandedFare'}}, {'description': 'BOOKING CHANGES', 'isChargeable': True, 'amenityType': 'BRANDED_FARES', 'amenityProvider': {'name': 'BrandedFare'}}, {'description': 'PREMIUM SEAT SELECTION', 'isChargeable': True, 'amenityType': 'BRANDED_FARES', 'amenityProvider': {'name': 'BrandedFare'}}, {'description': '50 PERCENT MILES EARN', 'isChargeable': False, 'amenityType': 'BRANDED_FARES', 'amenityProvider': {'name': 'BrandedFare'}}]}, {'segmentId': '7', 'cabin': 'ECONOMY', 'fareBasis': 'OLAAOZ2S', 'brandedFare': 'BASIC', 'brandedFareLabel': 'ECONOMY BASIC', 'class': 'O', 'includedCheckedBags': {'quantity': 0}, 'includedCabinBags': {'weight': 10, 'weightUnit': 'KG'}, 'amenities': [{'description': 'FIRST BAG UP TO 23KG', 'isChargeable': True, 'amenityType': 'BAGGAGE', 'amenityProvider': {'name': 'BrandedFare'}}, {'description': 'SECOND BAG UP TO 23KG', 'isChargeable': True, 'amenityType': 'BAGGAGE', 'amenityProvider': {'name': 'BrandedFare'}}, {'description': 'SEAT SELECTION', 'isChargeable': True, 'amenityType': 'PRE_RESERVED_SEAT', 'amenityProvider': {'name': 'BrandedFare'}}, {'description': 'SNACK', 'isChargeable': False, 'amenityType': 'MEAL', 'amenityProvider': {'name': 'BrandedFare'}}, {'description': 'BOOKING CHANGES', 'isChargeable': True, 'amenityType': 'BRANDED_FARES', 'amenityProvider': {'name': 'BrandedFare'}}, {'description': 'PREMIUM SEAT SELECTION', 'isChargeable': True, 'amenityType': 'BRANDED_FARES', 'amenityProvider': {'name': 'BrandedFare'}}, {'description': '50 PERCENT MILES EARN', 'isChargeable': False, 'amenityType': 'BRANDED_FARES', 'amenityProvider': {'name': 'BrandedFare'}}]}, {'segmentId': '8', 'cabin': 'ECONOMY', 'fareBasis': 'OLAAOZ2S', 'brandedFare': 'BASIC', 'brandedFareLabel': 'ECONOMY BASIC', 'class': 'O', 'includedCheckedBags': {'quantity': 0}, 'includedCabinBags': {'weight': 10, 'weightUnit': 'KG'}, 'amenities': [{'description': 'FIRST BAG UP TO 23KG', 'isChargeable': True, 'amenityType': 'BAGGAGE', 'amenityProvider': {'name': 'BrandedFare'}}, {'description': 'SECOND BAG UP TO 23KG', 'isChargeable': True, 'amenityType': 'BAGGAGE', 'amenityProvider': {'name': 'BrandedFare'}}, {'description': 'SEAT SELECTION', 'isChargeable': True, 'amenityType': 'PRE_RESERVED_SEAT', 'amenityProvider': {'name': 'BrandedFare'}}, {'description': 'SNACK', 'isChargeable': False, 'amenityType': 'MEAL', 'amenityProvider': {'name': 'BrandedFare'}}, {'description': 'BOOKING CHANGES', 'isChargeable': True, 'amenityType': 'BRANDED_FARES', 'amenityProvider': {'name': 'BrandedFare'}}, {'description': 'PREMIUM SEAT SELECTION', 'isChargeable': True, 'amenityType': 'BRANDED_FARES', 'amenityProvider': {'name': 'BrandedFare'}}, {'description': '50 PERCENT MILES EARN', 'isChargeable': False, 'amenityType': 'BRANDED_FARES', 'amenityProvider': {'name': 'BrandedFare'}}]}]}]}]\n"
     ]
    }
   ],
   "source": [
    "try:\n",
    "    flight_offers_response = requests.get(url=FLIGHT_OFFERS_BASE_URL, params=flight_offers_search_params, headers=flight_offers_headers)\n",
    "    flight_offers_response.raise_for_status()\n",
    "    raw_flight_offers_data = flight_offers_response.json()\n",
    "    # print(raw_flight_offers_data)\n",
    "except requests.exceptions.HTTPError as e:\n",
    "    print(f\"Error: {e}\")  \n",
    "    \n",
    "data = raw_flight_offers_data['data']\n",
    "print(data)"
   ]
  },
  {
   "cell_type": "code",
   "execution_count": null,
   "metadata": {},
   "outputs": [],
   "source": []
  }
 ],
 "metadata": {
  "kernelspec": {
   "display_name": "Python 3",
   "language": "python",
   "name": "python3"
  },
  "language_info": {
   "codemirror_mode": {
    "name": "ipython",
    "version": 3
   },
   "file_extension": ".py",
   "mimetype": "text/x-python",
   "name": "python",
   "nbconvert_exporter": "python",
   "pygments_lexer": "ipython3",
   "version": "3.12.3"
  }
 },
 "nbformat": 4,
 "nbformat_minor": 2
}
