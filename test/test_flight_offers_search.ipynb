{
 "cells": [
  {
   "cell_type": "code",
   "execution_count": 1,
   "metadata": {},
   "outputs": [],
   "source": [
    "import os\n",
    "import requests\n",
    "from dotenv import load_dotenv"
   ]
  },
  {
   "cell_type": "code",
   "execution_count": 2,
   "metadata": {},
   "outputs": [],
   "source": [
    "load_dotenv()\n",
    "\n",
    "AMADEUS_ACCESS_TOKEN = os.environ.get('AMADEUS_ACCESS_TOKEN')\n",
    "AMADEUS_API_KEY = os.environ.get('AMADEUS_API_KEY')\n",
    "AMADEUS_API_SECRET = os.environ.get('AMADEUS_API_SECRET')\n",
    "FLIGHT_OFFERS_BASE_URL = os.environ.get('FLIGHT_OFFERS_BASE_URL')"
   ]
  },
  {
   "cell_type": "code",
   "execution_count": 3,
   "metadata": {},
   "outputs": [],
   "source": [
    "params = {\n",
    "    \"grant_type\": \"client_credentials\",\n",
    "    \"client_id\": AMADEUS_API_KEY,\n",
    "    \"client_secret\": AMADEUS_API_SECRET\n",
    "}\n",
    "\n",
    "headers = {\n",
    "    \"Content-Type\": \"application/x-www-form-urlencoded\"\n",
    "}"
   ]
  },
  {
   "cell_type": "code",
   "execution_count": 4,
   "metadata": {},
   "outputs": [
    {
     "name": "stdout",
     "output_type": "stream",
     "text": [
      "Access token: fTEyZ6gQ5xxg8Mkozw1fnb3Kv8Lb\n",
      "Expiration date: 1799\n",
      "Authorization state: approved\n"
     ]
    }
   ],
   "source": [
    "response = requests.post(url=AMADEUS_ACCESS_TOKEN, data=params, headers=headers)\n",
    "response.raise_for_status()\n",
    "\n",
    "access_token = response.json()['access_token']\n",
    "expiration_date = response.json()['expires_in']\n",
    "authorization_state = response.json()['state']\n",
    "print(f\"Access token: {access_token}\")\n",
    "print(f\"Expiration date: {expiration_date}\")\n",
    "print(f\"Authorization state: {authorization_state}\")\n"
   ]
  },
  {
   "cell_type": "code",
   "execution_count": 43,
   "metadata": {},
   "outputs": [],
   "source": [
    "# Get flight offers GET request\n",
    "flight_offers_headers = {\n",
    "    \"Authorization\": f\"Bearer {access_token}\"\n",
    "}\n",
    "\n",
    "flight_offers_search_params = {\n",
    "    \"originLocationCode\": \"MDE\",  # Miami (IATA code)\n",
    "    \"destinationLocationCode\": \"BOG\",  # New York (IATA code)\n",
    "    \"departureDate\": \"2025-04-23\",\n",
    "    \"returnDate\": \"2025-04-26\", # YYYY-MM-DD format\n",
    "    \"maxPrice\": 200,\n",
    "    \"currencyCode\": \"USD\",\n",
    "    \"adults\": 1,  # At least 1 adult\n",
    "    \"max\": 3  # Optional: Limits results\n",
    "}"
   ]
  },
  {
   "cell_type": "code",
   "execution_count": 44,
   "metadata": {},
   "outputs": [
    {
     "name": "stdout",
     "output_type": "stream",
     "text": [
      "[{'type': 'flight-offer', 'id': '1', 'source': 'GDS', 'instantTicketingRequired': False, 'nonHomogeneous': False, 'oneWay': False, 'isUpsellOffer': False, 'lastTicketingDate': '2025-03-08', 'lastTicketingDateTime': '2025-03-08', 'numberOfBookableSeats': 7, 'itineraries': [{'duration': 'PT56M', 'segments': [{'departure': {'iataCode': 'MDE', 'at': '2025-04-23T04:19:00'}, 'arrival': {'iataCode': 'BOG', 'terminal': '1', 'at': '2025-04-23T05:15:00'}, 'carrierCode': 'LA', 'number': '4005', 'aircraft': {'code': '320'}, 'duration': 'PT56M', 'id': '1', 'numberOfStops': 0, 'blacklistedInEU': False}]}, {'duration': 'PT59M', 'segments': [{'departure': {'iataCode': 'BOG', 'terminal': '1', 'at': '2025-04-26T05:27:00'}, 'arrival': {'iataCode': 'MDE', 'at': '2025-04-26T06:26:00'}, 'carrierCode': 'LA', 'number': '4010', 'aircraft': {'code': '320'}, 'duration': 'PT59M', 'id': '3', 'numberOfStops': 0, 'blacklistedInEU': False}]}], 'price': {'currency': 'USD', 'total': '163.30', 'base': '102.00', 'fees': [{'amount': '0.00', 'type': 'SUPPLIER'}, {'amount': '0.00', 'type': 'TICKETING'}], 'grandTotal': '163.30', 'additionalServices': [{'amount': '26.60', 'type': 'CHECKED_BAGS'}]}, 'pricingOptions': {'fareType': ['PUBLISHED'], 'includedCheckedBagsOnly': False}, 'validatingAirlineCodes': ['LA'], 'travelerPricings': [{'travelerId': '1', 'fareOption': 'STANDARD', 'travelerType': 'ADULT', 'price': {'currency': 'USD', 'total': '163.30', 'base': '102.00'}, 'fareDetailsBySegment': [{'segmentId': '1', 'cabin': 'ECONOMY', 'fareBasis': 'O00QPAZT', 'brandedFare': 'QP', 'brandedFareLabel': 'BASIC', 'class': 'O', 'includedCheckedBags': {'quantity': 0}, 'includedCabinBags': {'quantity': 0}, 'amenities': [{'description': 'FIRST EXCESS BAG', 'isChargeable': True, 'amenityType': 'BAGGAGE', 'amenityProvider': {'name': 'BrandedFare'}}, {'description': 'SECOND EXCESS BAG', 'isChargeable': True, 'amenityType': 'BAGGAGE', 'amenityProvider': {'name': 'BrandedFare'}}, {'description': 'THIRD BAG 23KG', 'isChargeable': True, 'amenityType': 'BAGGAGE', 'amenityProvider': {'name': 'BrandedFare'}}, {'description': 'CARRY ON HAND BAGGAGE', 'isChargeable': True, 'amenityType': 'BAGGAGE', 'amenityProvider': {'name': 'BrandedFare'}}, {'description': 'BASIC SEAT RESERVATION', 'isChargeable': True, 'amenityType': 'BRANDED_FARES', 'amenityProvider': {'name': 'BrandedFare'}}, {'description': 'PREMIUM SEAT RESERVATION', 'isChargeable': True, 'amenityType': 'BRANDED_FARES', 'amenityProvider': {'name': 'BrandedFare'}}, {'description': 'CHANGE BEFORE DEPARTURE', 'isChargeable': True, 'amenityType': 'BRANDED_FARES', 'amenityProvider': {'name': 'BrandedFare'}}]}, {'segmentId': '3', 'cabin': 'ECONOMY', 'fareBasis': 'O00QPAZT', 'brandedFare': 'QP', 'brandedFareLabel': 'BASIC', 'class': 'O', 'includedCheckedBags': {'quantity': 0}, 'includedCabinBags': {'quantity': 0}, 'amenities': [{'description': 'FIRST EXCESS BAG', 'isChargeable': True, 'amenityType': 'BAGGAGE', 'amenityProvider': {'name': 'BrandedFare'}}, {'description': 'SECOND EXCESS BAG', 'isChargeable': True, 'amenityType': 'BAGGAGE', 'amenityProvider': {'name': 'BrandedFare'}}, {'description': 'THIRD BAG 23KG', 'isChargeable': True, 'amenityType': 'BAGGAGE', 'amenityProvider': {'name': 'BrandedFare'}}, {'description': 'CARRY ON HAND BAGGAGE', 'isChargeable': True, 'amenityType': 'BAGGAGE', 'amenityProvider': {'name': 'BrandedFare'}}, {'description': 'BASIC SEAT RESERVATION', 'isChargeable': True, 'amenityType': 'BRANDED_FARES', 'amenityProvider': {'name': 'BrandedFare'}}, {'description': 'PREMIUM SEAT RESERVATION', 'isChargeable': True, 'amenityType': 'BRANDED_FARES', 'amenityProvider': {'name': 'BrandedFare'}}, {'description': 'CHANGE BEFORE DEPARTURE', 'isChargeable': True, 'amenityType': 'BRANDED_FARES', 'amenityProvider': {'name': 'BrandedFare'}}]}]}]}, {'type': 'flight-offer', 'id': '2', 'source': 'GDS', 'instantTicketingRequired': False, 'nonHomogeneous': False, 'oneWay': False, 'isUpsellOffer': False, 'lastTicketingDate': '2025-03-08', 'lastTicketingDateTime': '2025-03-08', 'numberOfBookableSeats': 7, 'itineraries': [{'duration': 'PT56M', 'segments': [{'departure': {'iataCode': 'MDE', 'at': '2025-04-23T04:19:00'}, 'arrival': {'iataCode': 'BOG', 'terminal': '1', 'at': '2025-04-23T05:15:00'}, 'carrierCode': 'LA', 'number': '4005', 'aircraft': {'code': '320'}, 'duration': 'PT56M', 'id': '1', 'numberOfStops': 0, 'blacklistedInEU': False}]}, {'duration': 'PT59M', 'segments': [{'departure': {'iataCode': 'BOG', 'terminal': '1', 'at': '2025-04-26T06:29:00'}, 'arrival': {'iataCode': 'MDE', 'at': '2025-04-26T07:28:00'}, 'carrierCode': 'LA', 'number': '4024', 'aircraft': {'code': '320'}, 'duration': 'PT59M', 'id': '4', 'numberOfStops': 0, 'blacklistedInEU': False}]}], 'price': {'currency': 'USD', 'total': '163.30', 'base': '102.00', 'fees': [{'amount': '0.00', 'type': 'SUPPLIER'}, {'amount': '0.00', 'type': 'TICKETING'}], 'grandTotal': '163.30', 'additionalServices': [{'amount': '26.60', 'type': 'CHECKED_BAGS'}]}, 'pricingOptions': {'fareType': ['PUBLISHED'], 'includedCheckedBagsOnly': False}, 'validatingAirlineCodes': ['LA'], 'travelerPricings': [{'travelerId': '1', 'fareOption': 'STANDARD', 'travelerType': 'ADULT', 'price': {'currency': 'USD', 'total': '163.30', 'base': '102.00'}, 'fareDetailsBySegment': [{'segmentId': '1', 'cabin': 'ECONOMY', 'fareBasis': 'O00QPAZT', 'brandedFare': 'QP', 'brandedFareLabel': 'BASIC', 'class': 'O', 'includedCheckedBags': {'quantity': 0}, 'includedCabinBags': {'quantity': 0}, 'amenities': [{'description': 'FIRST EXCESS BAG', 'isChargeable': True, 'amenityType': 'BAGGAGE', 'amenityProvider': {'name': 'BrandedFare'}}, {'description': 'SECOND EXCESS BAG', 'isChargeable': True, 'amenityType': 'BAGGAGE', 'amenityProvider': {'name': 'BrandedFare'}}, {'description': 'THIRD BAG 23KG', 'isChargeable': True, 'amenityType': 'BAGGAGE', 'amenityProvider': {'name': 'BrandedFare'}}, {'description': 'CARRY ON HAND BAGGAGE', 'isChargeable': True, 'amenityType': 'BAGGAGE', 'amenityProvider': {'name': 'BrandedFare'}}, {'description': 'BASIC SEAT RESERVATION', 'isChargeable': True, 'amenityType': 'BRANDED_FARES', 'amenityProvider': {'name': 'BrandedFare'}}, {'description': 'PREMIUM SEAT RESERVATION', 'isChargeable': True, 'amenityType': 'BRANDED_FARES', 'amenityProvider': {'name': 'BrandedFare'}}, {'description': 'CHANGE BEFORE DEPARTURE', 'isChargeable': True, 'amenityType': 'BRANDED_FARES', 'amenityProvider': {'name': 'BrandedFare'}}]}, {'segmentId': '4', 'cabin': 'ECONOMY', 'fareBasis': 'O00QPAZT', 'brandedFare': 'QP', 'brandedFareLabel': 'BASIC', 'class': 'O', 'includedCheckedBags': {'quantity': 0}, 'includedCabinBags': {'quantity': 0}, 'amenities': [{'description': 'FIRST EXCESS BAG', 'isChargeable': True, 'amenityType': 'BAGGAGE', 'amenityProvider': {'name': 'BrandedFare'}}, {'description': 'SECOND EXCESS BAG', 'isChargeable': True, 'amenityType': 'BAGGAGE', 'amenityProvider': {'name': 'BrandedFare'}}, {'description': 'THIRD BAG 23KG', 'isChargeable': True, 'amenityType': 'BAGGAGE', 'amenityProvider': {'name': 'BrandedFare'}}, {'description': 'CARRY ON HAND BAGGAGE', 'isChargeable': True, 'amenityType': 'BAGGAGE', 'amenityProvider': {'name': 'BrandedFare'}}, {'description': 'BASIC SEAT RESERVATION', 'isChargeable': True, 'amenityType': 'BRANDED_FARES', 'amenityProvider': {'name': 'BrandedFare'}}, {'description': 'PREMIUM SEAT RESERVATION', 'isChargeable': True, 'amenityType': 'BRANDED_FARES', 'amenityProvider': {'name': 'BrandedFare'}}, {'description': 'CHANGE BEFORE DEPARTURE', 'isChargeable': True, 'amenityType': 'BRANDED_FARES', 'amenityProvider': {'name': 'BrandedFare'}}]}]}]}, {'type': 'flight-offer', 'id': '3', 'source': 'GDS', 'instantTicketingRequired': False, 'nonHomogeneous': False, 'oneWay': False, 'isUpsellOffer': False, 'lastTicketingDate': '2025-03-08', 'lastTicketingDateTime': '2025-03-08', 'numberOfBookableSeats': 7, 'itineraries': [{'duration': 'PT56M', 'segments': [{'departure': {'iataCode': 'MDE', 'at': '2025-04-23T04:54:00'}, 'arrival': {'iataCode': 'BOG', 'terminal': '1', 'at': '2025-04-23T05:50:00'}, 'carrierCode': 'LA', 'number': '4009', 'aircraft': {'code': '320'}, 'duration': 'PT56M', 'id': '2', 'numberOfStops': 0, 'blacklistedInEU': False}]}, {'duration': 'PT59M', 'segments': [{'departure': {'iataCode': 'BOG', 'terminal': '1', 'at': '2025-04-26T05:27:00'}, 'arrival': {'iataCode': 'MDE', 'at': '2025-04-26T06:26:00'}, 'carrierCode': 'LA', 'number': '4010', 'aircraft': {'code': '320'}, 'duration': 'PT59M', 'id': '3', 'numberOfStops': 0, 'blacklistedInEU': False}]}], 'price': {'currency': 'USD', 'total': '163.30', 'base': '102.00', 'fees': [{'amount': '0.00', 'type': 'SUPPLIER'}, {'amount': '0.00', 'type': 'TICKETING'}], 'grandTotal': '163.30', 'additionalServices': [{'amount': '26.60', 'type': 'CHECKED_BAGS'}]}, 'pricingOptions': {'fareType': ['PUBLISHED'], 'includedCheckedBagsOnly': False}, 'validatingAirlineCodes': ['LA'], 'travelerPricings': [{'travelerId': '1', 'fareOption': 'STANDARD', 'travelerType': 'ADULT', 'price': {'currency': 'USD', 'total': '163.30', 'base': '102.00'}, 'fareDetailsBySegment': [{'segmentId': '2', 'cabin': 'ECONOMY', 'fareBasis': 'O00QPAZT', 'brandedFare': 'QP', 'brandedFareLabel': 'BASIC', 'class': 'O', 'includedCheckedBags': {'quantity': 0}, 'includedCabinBags': {'quantity': 0}, 'amenities': [{'description': 'FIRST EXCESS BAG', 'isChargeable': True, 'amenityType': 'BAGGAGE', 'amenityProvider': {'name': 'BrandedFare'}}, {'description': 'SECOND EXCESS BAG', 'isChargeable': True, 'amenityType': 'BAGGAGE', 'amenityProvider': {'name': 'BrandedFare'}}, {'description': 'THIRD BAG 23KG', 'isChargeable': True, 'amenityType': 'BAGGAGE', 'amenityProvider': {'name': 'BrandedFare'}}, {'description': 'CARRY ON HAND BAGGAGE', 'isChargeable': True, 'amenityType': 'BAGGAGE', 'amenityProvider': {'name': 'BrandedFare'}}, {'description': 'BASIC SEAT RESERVATION', 'isChargeable': True, 'amenityType': 'BRANDED_FARES', 'amenityProvider': {'name': 'BrandedFare'}}, {'description': 'PREMIUM SEAT RESERVATION', 'isChargeable': True, 'amenityType': 'BRANDED_FARES', 'amenityProvider': {'name': 'BrandedFare'}}, {'description': 'CHANGE BEFORE DEPARTURE', 'isChargeable': True, 'amenityType': 'BRANDED_FARES', 'amenityProvider': {'name': 'BrandedFare'}}]}, {'segmentId': '3', 'cabin': 'ECONOMY', 'fareBasis': 'O00QPAZT', 'brandedFare': 'QP', 'brandedFareLabel': 'BASIC', 'class': 'O', 'includedCheckedBags': {'quantity': 0}, 'includedCabinBags': {'quantity': 0}, 'amenities': [{'description': 'FIRST EXCESS BAG', 'isChargeable': True, 'amenityType': 'BAGGAGE', 'amenityProvider': {'name': 'BrandedFare'}}, {'description': 'SECOND EXCESS BAG', 'isChargeable': True, 'amenityType': 'BAGGAGE', 'amenityProvider': {'name': 'BrandedFare'}}, {'description': 'THIRD BAG 23KG', 'isChargeable': True, 'amenityType': 'BAGGAGE', 'amenityProvider': {'name': 'BrandedFare'}}, {'description': 'CARRY ON HAND BAGGAGE', 'isChargeable': True, 'amenityType': 'BAGGAGE', 'amenityProvider': {'name': 'BrandedFare'}}, {'description': 'BASIC SEAT RESERVATION', 'isChargeable': True, 'amenityType': 'BRANDED_FARES', 'amenityProvider': {'name': 'BrandedFare'}}, {'description': 'PREMIUM SEAT RESERVATION', 'isChargeable': True, 'amenityType': 'BRANDED_FARES', 'amenityProvider': {'name': 'BrandedFare'}}, {'description': 'CHANGE BEFORE DEPARTURE', 'isChargeable': True, 'amenityType': 'BRANDED_FARES', 'amenityProvider': {'name': 'BrandedFare'}}]}]}]}]\n"
     ]
    }
   ],
   "source": [
    "try:\n",
    "    flight_offers_response = requests.get(url=FLIGHT_OFFERS_BASE_URL, params=flight_offers_search_params, headers=flight_offers_headers)\n",
    "    flight_offers_response.raise_for_status()\n",
    "    raw_flight_offers_data = flight_offers_response.json()\n",
    "    # print(raw_flight_offers_data)\n",
    "except requests.exceptions.HTTPError as e:\n",
    "    print(f\"Error: {e}\")  \n",
    "    \n",
    "data = raw_flight_offers_data['data']\n",
    "print(data)"
   ]
  },
  {
   "cell_type": "code",
   "execution_count": null,
   "metadata": {},
   "outputs": [],
   "source": []
  }
 ],
 "metadata": {
  "kernelspec": {
   "display_name": "Python 3",
   "language": "python",
   "name": "python3"
  },
  "language_info": {
   "codemirror_mode": {
    "name": "ipython",
    "version": 3
   },
   "file_extension": ".py",
   "mimetype": "text/x-python",
   "name": "python",
   "nbconvert_exporter": "python",
   "pygments_lexer": "ipython3",
   "version": "3.12.3"
  }
 },
 "nbformat": 4,
 "nbformat_minor": 2
}
