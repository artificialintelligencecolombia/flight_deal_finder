{
 "cells": [
  {
   "cell_type": "code",
   "execution_count": 1,
   "metadata": {},
   "outputs": [],
   "source": [
    "import os\n",
    "import requests\n",
    "from dotenv import load_dotenv"
   ]
  },
  {
   "cell_type": "code",
   "execution_count": null,
   "metadata": {},
   "outputs": [
    {
     "name": "stdout",
     "output_type": "stream",
     "text": [
      "https://api.sheety.co/6b7d24c212c971eabee542375fa203ff/flightDeals/sheet1\n",
      "a0uJP7g92N7oWm4lREPm9DF4RQdRD8yu\n"
     ]
    }
   ],
   "source": [
    "load_dotenv()\n",
    "\n",
    "BASE_SHEETY_URL=os.environ.get(\"BASE_SHEETY_URL\")\n",
    "SHEETY_AUTH_TOKEN=os.environ.get(\"SHEETY_AUTH_TOKEN\")"
   ]
  },
  {
   "cell_type": "code",
   "execution_count": null,
   "metadata": {},
   "outputs": [],
   "source": [
    "headers = {\n",
    "    \"Content-Type\": \"application/json\",\n",
    "    \"Authorization\": f\"Bearer {SHEETY_AUTH_TOKEN}\"\n",
    "}\n",
    "\n",
    "response = requests.get(url=BASE_SHEETY_URL, headers=headers)\n",
    "response.raise_for_status()\n",
    "data = response.json()\n",
    "print(data)"
   ]
  }
 ],
 "metadata": {
  "kernelspec": {
   "display_name": "Python 3",
   "language": "python",
   "name": "python3"
  },
  "language_info": {
   "codemirror_mode": {
    "name": "ipython",
    "version": 3
   },
   "file_extension": ".py",
   "mimetype": "text/x-python",
   "name": "python",
   "nbconvert_exporter": "python",
   "pygments_lexer": "ipython3",
   "version": "3.12.3"
  }
 },
 "nbformat": 4,
 "nbformat_minor": 2
}
